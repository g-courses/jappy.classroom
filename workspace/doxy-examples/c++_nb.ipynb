{
 "cells": [
  {
   "cell_type": "code",
   "execution_count": null,
   "metadata": {
    "vscode": {
     "languageId": "java"
    }
   },
   "outputs": [],
   "source": [
    "#include <iostream>\n",
    "#include <string>\n",
    "#include <cstdlib>"
   ]
  },
  {
   "cell_type": "markdown",
   "metadata": {},
   "source": [
    "Se crea la clase superior de la jerarquía"
   ]
  },
  {
   "cell_type": "code",
   "execution_count": null,
   "metadata": {
    "vscode": {
     "languageId": "java"
    }
   },
   "outputs": [],
   "source": [
    "class Animal {\n",
    "    protected:\n",
    "    std::string sonido;\n",
    "\n",
    "    public:\n",
    "    Animal(){\n",
    "        sonido = \"no definido\";\n",
    "    }\n",
    "\n",
    "    void vocalizar() {\n",
    "        std::cout << sonido << \"\\n\";\n",
    "    }\n",
    "};"
   ]
  },
  {
   "cell_type": "code",
   "execution_count": null,
   "metadata": {
    "vscode": {
     "languageId": "java"
    }
   },
   "outputs": [],
   "source": [
    "\n",
    "class Mascota: public Animal {\n",
    "    private:\n",
    "    std::string nombreMascota;\n",
    "\n",
    "    public:\n",
    "    Mascota(){\n",
    "\n",
    "    }\n",
    "\n",
    "    void nombre(std::string nombre){\n",
    "        nombreMascota = nombre;\n",
    "    }\n",
    "\n",
    "    std::string nombre(){\n",
    "        return(nombreMascota);\n",
    "    }\n",
    "\n",
    "};"
   ]
  },
  {
   "cell_type": "code",
   "execution_count": 5,
   "metadata": {
    "vscode": {
     "languageId": "java"
    }
   },
   "outputs": [],
   "source": [
    "class Perro: public Mascota {\n",
    "    public:\n",
    "    Perro(){\n",
    "        sonido = \"ladrar\";\n",
    "    }\n",
    "};\n",
    "\n",
    "class Gato: public Mascota {\n",
    "    public:\n",
    "    Gato(){\n",
    "        sonido = \"maullar\";\n",
    "    }\n",
    "};\n",
    "\n",
    "class Lobo: public Animal {\n",
    "    public:\n",
    "    Lobo(){\n",
    "        sonido = \"aullar\";\n",
    "    }\n",
    "};"
   ]
  },
  {
   "cell_type": "markdown",
   "metadata": {},
   "source": [
    "Se crea una función para demostrar el uso del concepto de `polimorfismo`"
   ]
  },
  {
   "cell_type": "code",
   "execution_count": 6,
   "metadata": {
    "vscode": {
     "languageId": "java"
    }
   },
   "outputs": [],
   "source": [
    "void sonidoAnimal(Animal a){\n",
    "    a.vocalizar();\n",
    "}"
   ]
  },
  {
   "cell_type": "markdown",
   "metadata": {},
   "source": [
    "Se crean distintos objetos"
   ]
  },
  {
   "cell_type": "code",
   "execution_count": 8,
   "metadata": {
    "vscode": {
     "languageId": "java"
    }
   },
   "outputs": [],
   "source": [
    "Mascota miPerro = Perro();\n",
    "Gato gatoBar =  Gato();\n",
    "Animal loboBosque = Lobo();"
   ]
  },
  {
   "cell_type": "code",
   "execution_count": null,
   "metadata": {
    "vscode": {
     "languageId": "java"
    }
   },
   "outputs": [],
   "source": [
    "miPerro.vocalizar();\n",
    "gatoBar.vocalizar();\n",
    "loboBosque.vocalizar();"
   ]
  },
  {
   "cell_type": "code",
   "execution_count": null,
   "metadata": {
    "vscode": {
     "languageId": "java"
    }
   },
   "outputs": [],
   "source": [
    "sonidoAnimal(miPerro);\n",
    "sonidoAnimal(gatoBar);\n",
    "sonidoAnimal(loboBosque);"
   ]
  },
  {
   "cell_type": "code",
   "execution_count": null,
   "metadata": {
    "vscode": {
     "languageId": "java"
    }
   },
   "outputs": [],
   "source": [
    "miPerro.nombre(\"Inti\");\n",
    "gatoBar.nombre(\"Kitty\");\n",
    "\n",
    "std::cout << \"miPerro.nombre() = \" << miPerro.nombre() << \"\\n\";"
   ]
  },
  {
   "cell_type": "code",
   "execution_count": 13,
   "metadata": {
    "vscode": {
     "languageId": "java"
    }
   },
   "outputs": [],
   "source": [
    "Mascota pruebaMascota = Mascota();\n"
   ]
  },
  {
   "cell_type": "code",
   "execution_count": null,
   "metadata": {
    "vscode": {
     "languageId": "java"
    }
   },
   "outputs": [],
   "source": [
    "sonidoAnimal(pruebaMascota);"
   ]
  }
 ],
 "metadata": {
  "kernelspec": {
   "display_name": "C++17",
   "language": "C++17",
   "name": "xcpp17"
  },
  "language_info": {
   "codemirror_mode": "text/x-c++src",
   "file_extension": ".cpp",
   "mimetype": "text/x-c++src",
   "name": "c++",
   "version": "17"
  }
 },
 "nbformat": 4,
 "nbformat_minor": 4
}
