{
 "cells": [
  {
   "cell_type": "markdown",
   "metadata": {
    "vscode": {
     "languageId": "python"
    }
   },
   "source": [
    "# Métodos virtuales puros o abstractos en C++\n",
    "\n",
    "Un método declarado como virtual puro permite, además implementar polimorfismo en tiempo de ejecución, permite que ese método no tenga implementación en la clase base y obliga a las clases hijas a implementarlo. Los métodos virtuales puros en C++ se declaran agregando `= 0` a la definición del método. En otros lenguajes orientados o objetos, estos métodos también son llamados `métodos abstractos`."
   ]
  },
  {
   "cell_type": "code",
   "execution_count": 5,
   "metadata": {
    "vscode": {
     "languageId": "java"
    }
   },
   "outputs": [],
   "source": [
    "#include <cstdio>\n",
    "#include <iostream>\n",
    "#include <string>"
   ]
  },
  {
   "cell_type": "markdown",
   "metadata": {},
   "source": [
    "Se define y se implementa la clase Animal. Esta clase tiene un constructor vacío y un método que retorna el sonido del animal, llamado `hacerSonido()`. Por diseño, **este método esta vacío** y  se requiere que este método sea sobreescrito por las clases hijas. Debido a esto, se utiliza la palabra reservada `virtual` antes de la definición del método y se utiliza la expresión `= 0` para establecer que se trata de un método virtual puro.\n",
    "\n",
    "```mermaid\n",
    "classDiagram\n",
    "    Animal <|-- Perro\n",
    "    Animal <|-- Gato\n",
    "```"
   ]
  },
  {
   "cell_type": "code",
   "execution_count": 6,
   "metadata": {
    "vscode": {
     "languageId": "java"
    }
   },
   "outputs": [],
   "source": [
    "class Animal {\n",
    "public:\n",
    "    Animal(){}\n",
    "    virtual std::string hacerSonido() = 0;\n",
    "};"
   ]
  },
  {
   "cell_type": "markdown",
   "metadata": {},
   "source": [
    "Una vez definida la clase base, se definen e implementan las clases derivadas `Perro` y `Gato`. Cada una implementa el método `hacerSonido()` según el comportamiento de la clase respectiva, tal como en el caso de métodos virtuales simples. Se utiliza la palabra reservada `override` para indicar que el método esta sobreescrito. `override` es sólo un **adorno**. Si ben no colocarlo no afecta el funcionamiento del código, es recomendable utilizarlo ya que indica explícitamente que un método se está sobreescribiendo (mejora la legibilidad y mantención del código)."
   ]
  },
  {
   "cell_type": "code",
   "execution_count": 7,
   "metadata": {
    "vscode": {
     "languageId": "java"
    }
   },
   "outputs": [],
   "source": [
    "\n",
    "class Perro : public Animal {\n",
    "public:\n",
    "    Perro(){}\n",
    "    std::string hacerSonido() override {\n",
    "        return(\"Guau\");\n",
    "    }\n",
    "};\n",
    "\n",
    "class Gato : public Animal {\n",
    "public:\n",
    "    Gato() {}\n",
    "    std::string hacerSonido() override {\n",
    "        return(\"Miau\");\n",
    "    }\n",
    "};"
   ]
  },
  {
   "cell_type": "markdown",
   "metadata": {},
   "source": [
    "# Creación de objetos\n",
    "\n",
    "Luego se crean los objetos con el operador `new`. Se debe recordar que se debe utilizar esta técnica de creación en C++ para aprovechar todos los beneficios del polimorfismo en tiempo de ejecución."
   ]
  },
  {
   "cell_type": "code",
   "execution_count": 8,
   "metadata": {
    "vscode": {
     "languageId": "java"
    }
   },
   "outputs": [],
   "source": [
    "Animal* q0 = new Perro();\n",
    "Animal* q1 = new Gato();\n",
    "Perro*  q2 = new Perro();\n",
    "Gato*   q3 = new Gato();"
   ]
  },
  {
   "cell_type": "markdown",
   "metadata": {},
   "source": [
    "Para probar que efectivamente se logra implementar correctamente el polimorfismo en tiempo de ejecución, se construye la función `sonido()` con un parámetro que es un puntero a la clase `Animal`."
   ]
  },
  {
   "cell_type": "code",
   "execution_count": 9,
   "metadata": {
    "vscode": {
     "languageId": "java"
    }
   },
   "outputs": [],
   "source": [
    "void sonido(Animal* a){\n",
    "    std::cout << a->hacerSonido() << \"\\n\";\n",
    "}\n"
   ]
  },
  {
   "cell_type": "markdown",
   "metadata": {},
   "source": [
    "Luego, se realizan las pruebas para cada objeto creado:"
   ]
  },
  {
   "cell_type": "code",
   "execution_count": 10,
   "metadata": {
    "vscode": {
     "languageId": "java"
    }
   },
   "outputs": [
    {
     "name": "stdout",
     "output_type": "stream",
     "text": [
      "Guau\n",
      "Miau\n",
      "Guau\n",
      "Miau\n"
     ]
    }
   ],
   "source": [
    "sonido(q0);\n",
    "sonido(q1);\n",
    "sonido(q2);\n",
    "sonido(q3);"
   ]
  },
  {
   "cell_type": "markdown",
   "metadata": {},
   "source": [
    "Si por error se instancia un objeto de la clase `Animal`, el compilador entregará un error, ya que no se puede crear un objeto si la clase tiene por lo menos un método virtual puro.\n",
    "\n",
    "><pre>\n",
    ">input_line_X:Y:Z: error: allocating an object of abstract class type 'Animal'\n",
    "> Animal* a0 = new Animal()\n",
    ">                  ^\n",
    ">input_line_X:Y:Z: note: unimplemented pure virtual method 'hacerSonido' in 'Animal'\n",
    ">    virtual std::string hacerSonido() = 0;\n",
    "></pre>"
   ]
  },
  {
   "cell_type": "code",
   "execution_count": 11,
   "metadata": {
    "vscode": {
     "languageId": "java"
    }
   },
   "outputs": [
    {
     "name": "stderr",
     "output_type": "stream",
     "text": [
      "input_line_17:2:19: error: allocating an object of abstract class type '__cling_N55::Animal'\n",
      " Animal* a0 = new Animal()\n",
      "                  ^\n",
      "input_line_12:4:25: note: unimplemented pure virtual method 'hacerSonido' in 'Animal'\n",
      "    virtual std::string hacerSonido() = 0;\n",
      "                        ^\n"
     ]
    },
    {
     "ename": "Interpreter Error",
     "evalue": "",
     "output_type": "error",
     "traceback": [
      "Interpreter Error: "
     ]
    }
   ],
   "source": [
    "Animal* a0 = new Animal()"
   ]
  },
  {
   "cell_type": "markdown",
   "metadata": {},
   "source": [
    "Este error, desde el punto de vista de Programación Orientada a Objetos, es totalmente válido debido a que una clase que tenga por lo menos un método abstracto no puede instanciar un objeto, ya que dicho método no tiene código asociado."
   ]
  }
 ],
 "metadata": {
  "kernelspec": {
   "display_name": "C++17",
   "language": "C++17",
   "name": "xcpp17"
  },
  "language_info": {
   "codemirror_mode": "text/x-c++src",
   "file_extension": ".cpp",
   "mimetype": "text/x-c++src",
   "name": "c++",
   "version": "17"
  }
 },
 "nbformat": 4,
 "nbformat_minor": 4
}
