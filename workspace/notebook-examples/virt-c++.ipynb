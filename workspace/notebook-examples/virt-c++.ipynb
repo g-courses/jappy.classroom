{
 "cells": [
  {
   "cell_type": "markdown",
   "metadata": {},
   "source": [
    "# Métodos virtuales en C++\n",
    "\n",
    "Un método declarado como virtual permite implementar polimorfismo en tiempo de ejecución. C++ necesita declarar explícitamente los métodos que se sobre-escriben en las clases derivadas. Primero se deben incluir las bibliotecas que permiten utilizar los ejemplos que se muestran en este documento."
   ]
  },
  {
   "cell_type": "code",
   "execution_count": 1,
   "metadata": {
    "tags": [],
    "vscode": {
     "languageId": "java"
    }
   },
   "outputs": [],
   "source": [
    "#include <cstdio>\n",
    "#include <iostream>\n",
    "#include <string>"
   ]
  },
  {
   "cell_type": "markdown",
   "metadata": {},
   "source": [
    "Se define y se implementa la clase Animal. Esta clase tiene un constructor vacío y un método que retorna el sonido del animal, llamado `hacerSonido()`. Por diseño, se requiere que este método sea sobreescrito por las clases hijas. Debido a esto, se utiliza la palabra reservada `virtual` antes de la definición del método."
   ]
  },
  {
   "cell_type": "code",
   "execution_count": 2,
   "metadata": {
    "tags": [],
    "vscode": {
     "languageId": "java"
    }
   },
   "outputs": [],
   "source": [
    "class Animal {\n",
    "public:\n",
    "    Animal(){}\n",
    "    virtual std::string hacerSonido() {\n",
    "        return(\"Sonido de animal\");\n",
    "    }\n",
    "};\n"
   ]
  },
  {
   "cell_type": "markdown",
   "metadata": {},
   "source": [
    "Una vez definida la clase base, se definen e implementan las clases derivadas `Perro` y `Gato`. Cada una implementa el método `hacerSonido()` según el comportamiento de la clase respectiva. Se utiliza la palabra reservada `override` para indicar que el método esta sobreescrito. `override` es sólo un **adorno**. Si ben no colocarlo no afecta el funcionamiento del código, es recomendable utilizarlo ya que indica explícitamente que un método se está sobreescribiendo (mejora la legibilidad y mantención del código)."
   ]
  },
  {
   "cell_type": "code",
   "execution_count": 3,
   "metadata": {
    "tags": [],
    "vscode": {
     "languageId": "java"
    }
   },
   "outputs": [],
   "source": [
    "class Perro : public Animal {\n",
    "public:\n",
    "    Perro(){}\n",
    "    std::string hacerSonido() override {\n",
    "        return(\"Guau\");\n",
    "    }\n",
    "};\n",
    "\n",
    "class Gato : public Animal {\n",
    "public:\n",
    "    Gato() {}\n",
    "    std::string hacerSonido() override {\n",
    "        return(\"Miau\");\n",
    "    }\n",
    "};"
   ]
  },
  {
   "cell_type": "markdown",
   "metadata": {},
   "source": [
    "## Creación de objetos de forma estática\n",
    "\n",
    "Debido a la herencia, crear objetos `Perro `y `Gato` a partir de la clase base (`Animal`), es válido como crear dichos objetos a partir de sus clases respectivas."
   ]
  },
  {
   "cell_type": "code",
   "execution_count": 4,
   "metadata": {
    "tags": [],
    "vscode": {
     "languageId": "java"
    }
   },
   "outputs": [],
   "source": [
    "Animal p0 = Perro();\n",
    "Animal p1 = Gato();\n",
    "Perro  p2 = Perro();\n",
    "Gato   p3 = Gato();"
   ]
  },
  {
   "cell_type": "markdown",
   "metadata": {},
   "source": [
    "El problema es que el lenguaje no se puede resolver el polimorfismo en tiempo de ejecución. Por ejemplo, la función `sonido()` debe mostrar el sonido que hace el animal, independiente si se trata de un perro, gato u otro. Esto **debe** ser válido según las directrices de Programación Orientada a Objetos."
   ]
  },
  {
   "cell_type": "code",
   "execution_count": 5,
   "metadata": {
    "tags": [],
    "vscode": {
     "languageId": "java"
    }
   },
   "outputs": [],
   "source": [
    "void sonido(Animal& a){\n",
    "    std::cout << a.hacerSonido() << \"\\n\";\n",
    "}\n",
    "\n",
    "Animal& foo = p0;\n"
   ]
  },
  {
   "cell_type": "code",
   "execution_count": 6,
   "metadata": {
    "tags": [],
    "vscode": {
     "languageId": "java"
    }
   },
   "outputs": [
    {
     "name": "stdout",
     "output_type": "stream",
     "text": [
      "Sonido de animal\n",
      "Sonido de animal\n",
      "Sonido de animal\n",
      "Guau\n",
      "Miau\n"
     ]
    }
   ],
   "source": [
    "sonido(p0);\n",
    "sonido(foo);\n",
    "sonido(p1);\n",
    "sonido(p2);\n",
    "sonido(p3);"
   ]
  },
  {
   "cell_type": "markdown",
   "metadata": {},
   "source": [
    "`p0` y `p1` están declarados como `Animal`, por lo que es válido que se invoque al método `hacersonido()` de esa clase. El tema es que ambos objetos son instancias de `Perro()` y `Gato()`, respectivamente, por lo que el método que se debe llamar es `hacersonido()` de la clase respectiva. \n",
    "\n",
    "`p2` y `p3` están declarados como  `Perro()` y `Gato()`, respectivamente. Pero como el tipo de datos de la función en `Animal`, el lenguaje realiza una conversión de tipo de datos, por lo que el método `hacersonido()` es la que pertenece a la classe `Animal`.\n",
    "\n",
    "Lo anterior lleva a la necesidad de crear objetos en forma dinámica."
   ]
  },
  {
   "cell_type": "markdown",
   "metadata": {},
   "source": [
    "# Creación de objetos de forma dinámica\n",
    "\n",
    "Si los objetos son creados en forma dinámica, entonces el lenguaje permite implementar correctamente el polimorfismo en tiempo de ejecución. Este se debe a que el manejo de los objetos se resuelve a través de estructuras dinámicas en memoria, llamadas `tabla de símbolos`, cuyo estudio esta fuera del alcance de esta asignatura. La creación en forma dinámica se logra utilizando el comando `new` y declarando que lo que se crea en un puntero a un objeto."
   ]
  },
  {
   "cell_type": "code",
   "execution_count": 7,
   "metadata": {
    "tags": [],
    "vscode": {
     "languageId": "java"
    }
   },
   "outputs": [],
   "source": [
    "Animal* q0 = new Perro();\n",
    "Animal* q1 = new Gato();\n",
    "Perro*  q2 = new Perro();\n",
    "Gato*   q3 = new Gato();"
   ]
  },
  {
   "cell_type": "markdown",
   "metadata": {},
   "source": [
    "Para probar que efectivamente se logra implementar correctamente el polimorfismo en tiempo de ejecución, se construye la función `sonido()` ahora con un parámetro que es un puntero a la clase `Animal`. Se debe recordar que, debido al polimorfismo en tiempo de compilación, esta función puede cohexistir con la función `sonido()` declarada anteriormente. Ambas se diferencian por sus parámetros. Cuando un objeto es un puntero a una clase, se utiliza el operados `->` para acceder a sus atributos y métodos."
   ]
  },
  {
   "cell_type": "code",
   "execution_count": 10,
   "metadata": {
    "tags": [],
    "vscode": {
     "languageId": "java"
    }
   },
   "outputs": [],
   "source": [
    "void sonido(Animal* a){\n",
    "    std::cout << a->hacerSonido() << \"\\n\";\n",
    "}"
   ]
  },
  {
   "cell_type": "code",
   "execution_count": 11,
   "metadata": {
    "tags": [],
    "vscode": {
     "languageId": "java"
    }
   },
   "outputs": [
    {
     "name": "stdout",
     "output_type": "stream",
     "text": [
      "Guau\n",
      "Miau\n",
      "Guau\n",
      "Miau\n"
     ]
    }
   ],
   "source": [
    "sonido(q0);\n",
    "sonido(q1);\n",
    "sonido(q2);\n",
    "sonido(q3);"
   ]
  },
  {
   "cell_type": "markdown",
   "metadata": {},
   "source": [
    "# Conclusión\n",
    "\n",
    "En C++, para aprovechar las características del polimorfismo en tiempo de ejecución, se prefiere crear objetos dinámicos, ya que en este caso el languaje trabaja con referencias a los objetos, lo que permite seleccionar adecuadamente los métodos a invocar dependiendo de la declaración del objeto. En lenguajes derivados, como Java y C#, se trabaja de igual forma con referencias, pero en forma transparente para la persona que programa."
   ]
  }
 ],
 "metadata": {
  "kernelspec": {
   "display_name": "C++17",
   "language": "C++17",
   "name": "xcpp17"
  },
  "language_info": {
   "codemirror_mode": "text/x-c++src",
   "file_extension": ".cpp",
   "mimetype": "text/x-c++src",
   "name": "c++",
   "version": "17"
  }
 },
 "nbformat": 4,
 "nbformat_minor": 4
}
