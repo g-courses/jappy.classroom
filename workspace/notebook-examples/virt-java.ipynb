{
 "cells": [
  {
   "cell_type": "markdown",
   "metadata": {},
   "source": [
    "# Métodos virtuales en Java\n",
    "\n",
    "En Java todo método es virtual en forma implícita. Esto significa que todos los métodos de una clase base pueden ser sobreescritos por sus clases hijas."
   ]
  },
  {
   "cell_type": "markdown",
   "metadata": {},
   "source": [
    "Se define y se implementa la clase Animal. Esta clase tiene un constructor vacío y un método que retorna el sonido del animal, llamado `hacerSonido()`. Por diseño, se requiere que este método sea sobreescrito por las clases hijas. Como el lenguaje de implementación es Java, no se necesita agregar nada más a la definición del método."
   ]
  },
  {
   "cell_type": "code",
   "execution_count": 2,
   "metadata": {
    "vscode": {
     "languageId": "java"
    }
   },
   "outputs": [],
   "source": [
    "class Animal {\n",
    "    public Animal(){}\n",
    "    public String hacerSonido() {\n",
    "        return(\"Sonido de animal\");\n",
    "    }\n",
    "};\n"
   ]
  },
  {
   "cell_type": "markdown",
   "metadata": {},
   "source": [
    "Una vez definida la clase base, se definen e implementan las clases derivadas `Perro` y `Gato`. Cada una implementa el método `hacerSonido()` según el comportamiento de la clase respectiva. Se utiliza la palabra reservada `@Override` para indicar que el método está sobreescrito. `@Override` es sólo un **adorno**. Si ben no colocarlo no afecta el funcionamiento del código, es recomendable utilizarlo ya que indica explícitamente que un método se está sobreescribiendo (mejora la legibilidad y mantención del código)."
   ]
  },
  {
   "cell_type": "code",
   "execution_count": 2,
   "metadata": {
    "vscode": {
     "languageId": "java"
    }
   },
   "outputs": [],
   "source": [
    "class Perro extends Animal {\n",
    "    public Perro(){}\n",
    "    \n",
    "    @Override\n",
    "    public String hacerSonido() {\n",
    "        return(\"Guau\");\n",
    "    }\n",
    "};\n",
    "    \n",
    "class Gato extends Animal {\n",
    "    public Gato(){}\n",
    "\n",
    "    @Override\n",
    "    public String hacerSonido() {\n",
    "        return(\"Miau\");\n",
    "    }\n",
    "};"
   ]
  },
  {
   "cell_type": "markdown",
   "metadata": {},
   "source": [
    "# Creación de objetos de forma dinámica\n",
    "\n",
    "En Java, todos los objetos son creados en forma dinámica a través de la palabra reservada `new`. Un objeto Java es creado como una referencia a la clase. Esto permite mantener la coherencia en el uso de los métodos y atributos con el operador `.` (punto).\n"
   ]
  },
  {
   "cell_type": "code",
   "execution_count": null,
   "metadata": {
    "vscode": {
     "languageId": "java"
    }
   },
   "outputs": [],
   "source": [
    "void sonido(Animal a){\n",
    "    System.out.println(a.hacerSonido());\n",
    "}\n",
    "\n",
    "\n",
    "Animal a0 = new Perro();\n",
    "Animal a1 = new Gato();\n",
    "Perro  a2 = new Perro();\n",
    "Gato   a3 = new Gato();\n",
    "\n",
    "sonido(a0);\n",
    "sonido(a1);\n",
    "sonido(a2);\n",
    "sonido(a3);\n"
   ]
  }
 ],
 "metadata": {
  "kernelspec": {
   "display_name": "Java",
   "language": "java",
   "name": "java"
  },
  "language_info": {
   "codemirror_mode": "java",
   "file_extension": ".jshell",
   "mimetype": "text/x-java-source",
   "name": "Java",
   "pygments_lexer": "java",
   "version": "11.0.25+9-post-Ubuntu-1ubuntu122.04"
  }
 },
 "nbformat": 4,
 "nbformat_minor": 2
}
