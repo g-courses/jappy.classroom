{
 "cells": [
  {
   "cell_type": "markdown",
   "metadata": {},
   "source": [
    "# Ejercicio\n",
    "\n",
    "Una empresa de servicios eléctricos desea analizar el consumo eléctrico mensual de los hogares a lo largo de los años. El objetivo\n",
    "es realizar un gráfico que incluya el promedio histórico, los mínimos y máximos históricos por mes, y realizar una proyección para el año 2025 basada en los promedio históricos. Para determinar la proyección mensual para el año 2025, se debe considerar un aumento del 5% con respecto al promedio mensual histórico respectivo.\n",
    "\n",
    "Datos de entrada: Archivo CSV llamado `consumo_electrico.csv` con las siguientes columnas:\n",
    "* Año: Año en el que se registró el consumo.\n",
    "* Mes: Mes del registro (enero, febrero, etc.).\n",
    "* Consumo mínimo: Consumo eléctrico mínimo mensual registrado en kWh.\n",
    "* Consumo máximo: Consumo eléctrico máximo mensual registrado en kWh.\n",
    "\n",
    "Leer los datos del archivo, para calcular el promedio histórico del promedio de los consumos máximos y mínimos, por mes. No se\n",
    "conoce la cantidad de registros, pero sí se sabe que para cada año existe toda la información de los 12 meses. Además, se debe\n",
    "realizar l"
   ]
  },
  {
   "cell_type": "markdown",
   "metadata": {},
   "source": [
    "## Solución"
   ]
  },
  {
   "cell_type": "markdown",
   "metadata": {},
   "source": [
    "### 0. Paso previo\n",
    "\n",
    "Si el código se está ejecutando en el entorno VSCode + devcontainer, es necesario ajustar el directorio de trabajo, debido a VS Code no lo autoconfigura."
   ]
  },
  {
   "cell_type": "code",
   "execution_count": null,
   "metadata": {},
   "outputs": [],
   "source": [
    "import jappy_utils as jutils\n",
    "jutils.setWD('/notebook-examples')"
   ]
  },
  {
   "cell_type": "markdown",
   "metadata": {},
   "source": [
    "### 1. Realizar el esquelo de la solución"
   ]
  },
  {
   "cell_type": "markdown",
   "metadata": {},
   "source": [
    "Antes de comenzar a codificar, se recomienda realizar el esqueleto de la solución, la que debe tener la importación de las librerías a utilizar y funciones que deberán ser implementadas:"
   ]
  },
  {
   "cell_type": "code",
   "execution_count": null,
   "metadata": {},
   "outputs": [],
   "source": [
    "import matplotlib.pyplot as plt\n",
    "from statistics import mean\n",
    "\n",
    "def leer_datos(nombre_archivo: str) -> tuple:\n",
    "    pass\n",
    "\n",
    "def calcular_proyeccion(minimas: dict, maximas: dict) -> tuple:\n",
    "    pass\n",
    "\n",
    "def graficar():\n",
    "    pass\n",
    "\n",
    "graficar()"
   ]
  },
  {
   "cell_type": "markdown",
   "metadata": {},
   "source": [
    "Una vez armado el esqueleto, definir las variables de entrada (parámetros) de las funciones, inicializar las variables de salida y realizar el retorno respectivo. Para la función `leer_datos()` el archivo es un parámetro de tipo `str`. Internamente, deberá retornar los años y los meses que efectivamente están en el archivo de datos. Además, deberá retornar los consumos eléctricos mínimos y máximas de cada mes, a lo largo de todos los años disponibles en el archivos. Por lo tanto, un diccionario puede ser útil para almacenar estos valores. Cada una de las variables que se utilizan, se deben inicializar."
   ]
  },
  {
   "cell_type": "code",
   "execution_count": null,
   "metadata": {},
   "outputs": [],
   "source": [
    "def leer_datos(nombre_archivo: str) -> tuple:\n",
    "    anios = []\n",
    "    meses = []\n",
    "    consumos_minimos = {}\n",
    "    consumos_maximos = {}\n",
    "\n",
    "\n",
    "    return anios, meses, consumos_minimos, consumos_maximos"
   ]
  },
  {
   "cell_type": "markdown",
   "metadata": {},
   "source": [
    "La función `calcular_proyeccion()`, utilizará los diccionarios de consumos eléctricos mínimos y máximos. Además, retornará los promedios históricos de consumos por mes y la proyección respectiva. Para estos estos, se utilizarán listas. Cada una de las variables que se utilizan, se deben inicializar."
   ]
  },
  {
   "cell_type": "code",
   "execution_count": null,
   "metadata": {},
   "outputs": [],
   "source": [
    "\n",
    "def calcular_proyeccion(minimos: dict, maximos: dict) -> tuple:\n",
    "    promedios_historicos = []\n",
    "    minimos_historicos = []\n",
    "    maximos_historicos = []\n",
    "    proyeccion = []\n",
    "\n",
    "    return(promedios_historicos, minimos_historicos, maximos_historicos, proyeccion)"
   ]
  },
  {
   "cell_type": "markdown",
   "metadata": {},
   "source": [
    "La función `graficar()` no tiene parámetros de entrada. Internamente utiliza los datos que retornan las funciones anteriores. Dado lo anterior, se recomienda implementar un código preliminar para tener una idea de como estructurar la lógica de la función. Por ejemplo, la función `leer_datos()`, a partir del archivo `csv`, generará sus cuatro salidas definidas anteriormente. En forma similar, la función `calcular_proyeccion()` retornará dos listas."
   ]
  },
  {
   "cell_type": "code",
   "execution_count": null,
   "metadata": {},
   "outputs": [],
   "source": [
    "def graficar():\n",
    "    anios, meses, minimos, maximos = leer_datos(\"consumo_electrico.csv\")\n",
    "    promedios_historicos, minimos_historicos, maximos_historicos, proyeccion = calcular_proyeccion(minimos, maximos)\n",
    "    \n",
    "    plt.figure(figsize=(12, 8))\n",
    "    \n",
    "    plt.show()"
   ]
  },
  {
   "cell_type": "markdown",
   "metadata": {},
   "source": [
    "### 2. Implementar funcion `leer_datos()`"
   ]
  },
  {
   "cell_type": "markdown",
   "metadata": {},
   "source": [
    "La implementación de esta función consiste en leer un archivo. Luego, debe tener la estructura clásica para abrir un archivo:\n",
    "\n",
    "><pre>\n",
    ">try:\n",
    ">    # abrir el archivo\n",
    ">except:\n",
    ">    # mostrar error si hay algún problema\n",
    ">else:\n",
    ">    # si no hay problema, leer el archivo, hacer la \n",
    ">    # lógica de la función y cerrarlo.\n",
    "></pre>\n",
    "\n",
    "En la lógica de la función, primero de deben guardar los años y meses que están en el archivo `csv`. En base a los meses obtenidos, se deben inicializar los diccionarios de mínimas y máximas. Se debe recordar que cada clave es el nombre del mes y el valor es una lista de consumos eléctricos. Por eso, cada valor del diccionario se debe inicializar como una lista vacía."
   ]
  },
  {
   "cell_type": "code",
   "execution_count": null,
   "metadata": {},
   "outputs": [],
   "source": [
    "def leer_datos(nombre_archivo: str) -> tuple:\n",
    "    anios = []\n",
    "    meses = []\n",
    "    consumos_minimos = {}\n",
    "    consumos_maximos = {}\n",
    "\n",
    "    try:\n",
    "        mi_archivo = open(nombre_archivo, \"r\")\n",
    "    except:\n",
    "        print(f\"El archivo {nombre_archivo} no se puede abir.\")\n",
    "    else:\n",
    "        # Si no hay problema para abrir el archivo.\n",
    "        # se leean todas las líneas de él.\n",
    "        lineas = mi_archivo.readlines()\n",
    "\n",
    "        # Se cierra el archivo. El contenido\n",
    "        # está almacenado en la variable lineas\n",
    "        mi_archivo.close()\n",
    "\n",
    "        # Completar primero los años y los meses\n",
    "        for linea in lineas[1:]:\n",
    "            anio, mes, minimo, maximo = linea.strip().split(\",\")\n",
    "\n",
    "            if anio not in anios:\n",
    "                anios.append(anio)\n",
    "            if mes not in meses:\n",
    "                meses.append(mes)\n",
    "        \n",
    "        \n",
    "        # Luego, inicializar los diccionarios\n",
    "        # cada valor se iniciliza como una lista vacía\n",
    "        for mes in meses:\n",
    "            consumos_minimos[mes] = []\n",
    "            consumos_maximos[mes] = []\n",
    "        \n",
    "        # Después, leer nuevamente el archivo, para \n",
    "        # guardar los datos de las minimas y maximas\n",
    "        for linea in lineas[1:]:\n",
    "            anio, mes, minimo, maximo = linea.strip().split(\",\")\n",
    "            consumos_minimos[mes].append(int(minimo))\n",
    "            consumos_maximos[mes].append(int(maximo))\n",
    "        \n",
    "\n",
    "    \n",
    "    return anios, meses, consumos_minimos, consumos_maximos"
   ]
  },
  {
   "cell_type": "markdown",
   "metadata": {},
   "source": [
    "### 3. Implementar funcion `calcular_proyeccion()`"
   ]
  },
  {
   "cell_type": "markdown",
   "metadata": {},
   "source": [
    "Para realizar la proyección, se deben utilizar los diccionarios de consumos mínimos y máximos. Primero, el promedio historico de un mes se calcula promediando todas los consumos (mínimos y máximos) de ese mes. Es número se agrega a la lista de promedios históricos (`promedios_historicos`). A partir de ese promedio, se determina la proyección para el mes respectivo como un aumento del 5%."
   ]
  },
  {
   "cell_type": "code",
   "execution_count": null,
   "metadata": {},
   "outputs": [],
   "source": [
    "def calcular_proyeccion(minimos: dict, maximos: dict) -> tuple:\n",
    "    promedios_historicos = []\n",
    "    minimos_historicos = []\n",
    "    maximos_historicos = []\n",
    "    proyeccion = []\n",
    "    \n",
    "\n",
    "    for mes in minimos:\n",
    "        promedio_mes = mean(minimos[mes] + maximos[mes])\n",
    "        promedios_historicos.append(promedio_mes)\n",
    "        minimos_historicos.append(min(minimos[mes]))\n",
    "        maximos_historicos.append(max(maximos[mes]))\n",
    "\n",
    "        proy = promedio_mes * 1.05\n",
    "\n",
    "        proyeccion.append(proy)\n",
    "        \n",
    "    return(promedios_historicos, minimos_historicos, maximos_historicos, proyeccion)"
   ]
  },
  {
   "cell_type": "markdown",
   "metadata": {},
   "source": [
    "### 3. Implementar funcion `graficar()`"
   ]
  },
  {
   "cell_type": "code",
   "execution_count": null,
   "metadata": {},
   "outputs": [],
   "source": [
    "def graficar():\n",
    "    anios, meses, minimos, maximos = leer_datos(\"consumo_electrico.csv\")\n",
    "    promedios_historicos, minimos_historicos, maximos_historicos, proyeccion = calcular_proyeccion(minimos, maximos)\n",
    "    \n",
    "    plt.figure(figsize=(12, 8))\n",
    "    plt.plot(meses, promedios_historicos, label=\"Promedio histórico por mes\", marker='o', linestyle='-.', linewidth=2)\n",
    "    plt.plot(meses, minimos_historicos, label=\"Mínimos histórico por mes\", marker='o', linestyle='-.', linewidth=2)\n",
    "    plt.plot(meses, maximos_historicos, label=\"Máximos histórico por mes\", marker='o', linestyle='-.', linewidth=2)\n",
    "    plt.plot(meses, proyeccion, label=\"Proyección 2025\", marker='o', linestyle='--', linewidth=2)\n",
    "    \n",
    "    for i in range(len(meses)):\n",
    "        plt.text(i, promedios_historicos[i] + 0.1, str(round(promedios_historicos[i],2)), ha='center', fontsize=8)\n",
    "        plt.text(i, proyeccion[i] + 0.1, str(round(proyeccion[i],2)), ha='center', fontsize=8)\n",
    "    \n",
    "    plt.title(f\"Temperatura desde {min(anios)} hasta {max(anios)}\")\n",
    "    plt.xlabel(\"Mes\")\n",
    "    plt.ylabel(\"Temperatura (°C)\")\n",
    "    plt.legend()\n",
    "    plt.grid(True)\n",
    "    \n",
    "    plt.show()"
   ]
  },
  {
   "cell_type": "markdown",
   "metadata": {},
   "source": [
    "### 4. Ejecutar todo"
   ]
  },
  {
   "cell_type": "markdown",
   "metadata": {},
   "source": [
    "Para ejecutar todo, sólo es necesario llamar a la función  `graficar()`."
   ]
  },
  {
   "cell_type": "code",
   "execution_count": null,
   "metadata": {},
   "outputs": [],
   "source": [
    "graficar()"
   ]
  }
 ],
 "metadata": {
  "kernelspec": {
   "display_name": "Python 3 (ipykernel)",
   "language": "python",
   "name": "python3"
  },
  "language_info": {
   "codemirror_mode": {
    "name": "ipython",
    "version": 3
   },
   "file_extension": ".py",
   "mimetype": "text/x-python",
   "name": "python",
   "nbconvert_exporter": "python",
   "pygments_lexer": "ipython3",
   "version": "3.10.12"
  }
 },
 "nbformat": 4,
 "nbformat_minor": 4
}
