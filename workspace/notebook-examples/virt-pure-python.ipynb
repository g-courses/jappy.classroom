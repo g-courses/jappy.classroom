{
 "cells": [
  {
   "cell_type": "markdown",
   "metadata": {},
   "source": [
    "# Métodos virtuales puros en Python\n",
    "\n",
    "Se debe recordar que los métodos virtuales se utilizan para definir un método en una clase base que debe ser implementado por cualquier clase derivada. En Python, esto se logra a través del uso de clases abstractas y el módulo `abc` (**Abstract Base Classes**). Los métodos virtuales permiten establecer una interfaz común para las subclases."
   ]
  },
  {
   "cell_type": "code",
   "execution_count": 1,
   "metadata": {},
   "outputs": [],
   "source": [
    "from abc import ABC, abstractmethod"
   ]
  },
  {
   "cell_type": "markdown",
   "metadata": {},
   "source": [
    "## Ejemplo de Métodos Virtuales\n",
    "\n",
    "Aquí tienes un ejemplo que ilustra cómo se pueden usar métodos virtuales en Python. La clase abstracta `Animal` es una clase derivada de ABC (**Abstract Base Class**) y define un método abstracto `hablar()`."
   ]
  },
  {
   "cell_type": "code",
   "execution_count": 17,
   "metadata": {},
   "outputs": [],
   "source": [
    "class Animal(ABC):\n",
    "    nombre: str\n",
    "    def __init__(self):\n",
    "        nombre = \"sin definir\"\n",
    "    @abstractmethod\n",
    "    def sonido(self):\n",
    "        pass\n"
   ]
  },
  {
   "cell_type": "markdown",
   "metadata": {},
   "source": [
    "Luego, se crean las clases `Perro` y `Gato`. Ambas clases implementan el método hablar, proporcionando su propia lógica."
   ]
  },
  {
   "cell_type": "code",
   "execution_count": 18,
   "metadata": {},
   "outputs": [],
   "source": [
    "class Perro(Animal):\n",
    "    def __init__(self, _nombre):\n",
    "        self.nombre = _nombre\n",
    "\n",
    "    def sonido(self):\n",
    "        return \"ladra\"\n",
    "\n",
    "class Gato(Animal):\n",
    "    def __init__(self, _nombre):\n",
    "        self.nombre = _nombre\n",
    "    def sonido(self):\n",
    "        return \"maulla\""
   ]
  },
  {
   "cell_type": "markdown",
   "metadata": {},
   "source": [
    ">Observación: Se debe recordar que Python no existe el control de acceso, por lo que todos los atributos y métodos son `public`.\n",
    "\n",
    "Para probar el uso de métodos virtuales puros, se implementa una función de prueba `hacerSonido()`, cuyo parámetro sea un objeto de la clase `Animal`."
   ]
  },
  {
   "cell_type": "code",
   "execution_count": 19,
   "metadata": {},
   "outputs": [],
   "source": [
    "def hacerSonido(animal: Animal):\n",
    "    print(f\"{animal.nombre} -> {animal.sonido()}\")"
   ]
  },
  {
   "cell_type": "code",
   "execution_count": null,
   "metadata": {},
   "outputs": [],
   "source": [
    "odie = Perro(\"odie\")\n",
    "benito = Gato(\"benito\")\n",
    "\n",
    "hacerSonido(odie)\n",
    "hacerSonido(benito)"
   ]
  }
 ],
 "metadata": {
  "kernelspec": {
   "display_name": "Python 3 (ipykernel)",
   "language": "python",
   "name": "python3"
  },
  "language_info": {
   "codemirror_mode": {
    "name": "ipython",
    "version": 3
   },
   "file_extension": ".py",
   "mimetype": "text/x-python",
   "name": "python",
   "nbconvert_exporter": "python",
   "pygments_lexer": "ipython3",
   "version": "3.8.10"
  }
 },
 "nbformat": 4,
 "nbformat_minor": 2
}
