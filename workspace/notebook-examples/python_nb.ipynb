{
 "cells": [
  {
   "cell_type": "code",
   "execution_count": null,
   "metadata": {},
   "outputs": [],
   "source": [
    "print (\"hola mundo\")"
   ]
  },
  {
   "cell_type": "markdown",
   "metadata": {},
   "source": [
    "Ejemplo de uso de la biblioteca Matplotlib:"
   ]
  },
  {
   "cell_type": "code",
   "execution_count": 1,
   "metadata": {
    "tags": []
   },
   "outputs": [],
   "source": [
    "import matplotlib.pyplot as plt"
   ]
  },
  {
   "cell_type": "code",
   "execution_count": null,
   "metadata": {},
   "outputs": [],
   "source": [
    "plt.plot([1, 2, 3, 4])\n",
    "plt.ylabel('some numbers')\n",
    "plt.show()"
   ]
  },
  {
   "cell_type": "markdown",
   "metadata": {},
   "source": [
    "### Realizar diagrama UML con `plantuml`"
   ]
  },
  {
   "cell_type": "markdown",
   "metadata": {},
   "source": [
    "utilizar la librería `iplantuml`"
   ]
  },
  {
   "cell_type": "code",
   "execution_count": 1,
   "metadata": {
    "tags": []
   },
   "outputs": [],
   "source": [
    "import iplantuml"
   ]
  },
  {
   "cell_type": "markdown",
   "metadata": {},
   "source": [
    "Luego, utilizar el comando `%%` para llamar al programa `plantuml` que ya está instalado en el contenedor."
   ]
  },
  {
   "cell_type": "code",
   "execution_count": null,
   "metadata": {
    "tags": []
   },
   "outputs": [],
   "source": [
    "%%plantuml\n",
    "\n",
    "@startuml\n",
    "    class Figura{\n",
    "        init()\n",
    "\n",
    "        area(): double\n",
    "    }\n",
    "\n",
    "    class Rectangulo{\n",
    "        base: double\n",
    "        altura: double\n",
    "\n",
    "        init(_base: double, _altura: double)\n",
    "        area(): double\n",
    "    }\n",
    "\n",
    "    class Elipse\n",
    "    class Cuadrado\n",
    "    class Circulo\n",
    "\n",
    "    Figura <|-- Rectangulo\n",
    "    Figura <|-- Elipse\n",
    "\n",
    "    Rectangulo <|-- Cuadrado\n",
    "    Elipse <|-- Circulo\n",
    "\n",
    "@enduml"
   ]
  },
  {
   "cell_type": "code",
   "execution_count": 3,
   "metadata": {},
   "outputs": [],
   "source": [
    "import numpy as np\n",
    "import matplotlib.pyplot as plt\n",
    "\n",
    "# Parámetros\n",
    "fs = 1000  # Frecuencia de muestreo\n",
    "t = np.linspace(0, 1, fs)  # Tiempo de 0 a 1 segundo\n",
    "\n",
    "# Frecuencias\n",
    "f_m = 2  # Frecuencia de la señal moduladora (Hz)\n",
    "f_c = 10  # Frecuencia de la señal portadora (Hz)\n",
    "\n",
    "# Señales\n",
    "moduladora = np.sin(2 * np.pi * f_m * t)  # Señal moduladora\n",
    "portadora = np.sin(2 * np.pi * f_c * t)  # Señal portadora\n",
    "\n",
    "# Señal modulada\n",
    "modulada = (1 + moduladora) * portadora  # Modulación de amplitud\n",
    "\n",
    "# Gráficos\n",
    "plt.figure(figsize=(12, 6))\n",
    "\n",
    "# Señal moduladora\n",
    "plt.subplot(3, 1, 1)\n",
    "plt.plot(t, moduladora, label='Señal Moduladora (f_m=2 Hz)')\n",
    "plt.title('Señal Moduladora')\n",
    "plt.xlabel('Tiempo (s)')\n",
    "plt.ylabel('Amplitud')\n",
    "plt.grid()\n",
    "plt.legend()\n",
    "\n",
    "# Señal portadora\n",
    "plt.subplot(3, 1, 2)\n",
    "plt.plot(t, portadora, label='Señal Portadora (f_c=10 Hz)', color='orange')\n",
    "plt.title('Señal Portadora')\n",
    "plt.xlabel('Tiempo (s)')\n",
    "plt.ylabel('Amplitud')\n",
    "plt.grid()\n",
    "plt.legend()\n",
    "\n",
    "# Señal modulada\n",
    "plt.subplot(3, 1, 3)\n",
    "plt.plot(t, modulada, label='Señal Modulada', color='green')\n",
    "plt.title('Señal Modulada')\n",
    "plt.xlabel('Tiempo (s)')\n",
    "plt.ylabel('Amplitud')\n",
    "plt.grid()\n",
    "plt.legend()\n",
    "\n",
    "plt.tight_layout()\n",
    "plt.show()"
   ]
  }
 ],
 "metadata": {
  "@deathbeds/ipydrawio": {
   "xml": ""
  },
  "kernelspec": {
   "display_name": "Python 3 (ipykernel)",
   "language": "python",
   "name": "python3"
  }
 },
 "nbformat": 4,
 "nbformat_minor": 4
}
