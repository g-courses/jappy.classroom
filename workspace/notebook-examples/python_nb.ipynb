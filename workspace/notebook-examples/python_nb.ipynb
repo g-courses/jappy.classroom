{
 "cells": [
  {
   "cell_type": "code",
   "execution_count": null,
   "metadata": {},
   "outputs": [],
   "source": [
    "print (\"hola mundo\")"
   ]
  },
  {
   "cell_type": "markdown",
   "metadata": {},
   "source": [
    "Ejemplo de uso de la biblioteca Matplotlib:"
   ]
  },
  {
   "cell_type": "code",
   "execution_count": null,
   "metadata": {},
   "outputs": [],
   "source": [
    "import matplotlib.pyplot as plt\n",
    "\n",
    "plt.plot([1, 2, 3, 4])\n",
    "plt.ylabel('some numbers')\n",
    "plt.show()"
   ]
  },
  {
   "cell_type": "markdown",
   "metadata": {},
   "source": [
    "### Realizar diagrama UML con `Mermaid`"
   ]
  },
  {
   "cell_type": "markdown",
   "metadata": {},
   "source": [
    "En una celda Markdown se debe incluir:\n",
    "\n",
    "><pre>\n",
    ">```mermaid\n",
    ">\n",
    "># Código Mermaid\n",
    ">\n",
    ">```\n",
    "></pre>\n",
    "\n",
    "Por ejemplo, la siguiente celda tiene el siguiente código:\n",
    "\n",
    "><pre>\n",
    ">```mermaid\n",
    ">classDiagram\n",
    ">    class Figura{\n",
    ">        init()\n",
    ">\n",
    ">        area(): double\n",
    ">    }\n",
    ">\n",
    ">    class Rectangulo{\n",
    ">        base: double\n",
    ">        altura: double\n",
    ">\n",
    ">        int(_base: double, _altura: double)\n",
    ">        area(): double\n",
    ">    }\n",
    ">\n",
    ">    class Elipse\n",
    ">    class Cuadrado\n",
    ">    class Circulo\n",
    ">\n",
    ">    direction BT\n",
    ">    Figura <|-- Rectangulo\n",
    ">    Rectangulo <|-- Cuadrado\n",
    ">\n",
    ">    Figura <|-- Elipse\n",
    ">    Elipse <|-- Circulo\n",
    ">```\n",
    "></pre>"
   ]
  },
  {
   "cell_type": "markdown",
   "metadata": {
    "tags": []
   },
   "source": [
    "```mermaid\n",
    "classDiagram\n",
    "    class Figura{\n",
    "        init()\n",
    "\n",
    "        area(): double\n",
    "    }\n",
    "\n",
    "    class Rectangulo{\n",
    "        base: double\n",
    "        altura: double\n",
    "\n",
    "        int(_base: double, _altura: double)\n",
    "        area(): double\n",
    "    }\n",
    "\n",
    "    class Elipse\n",
    "    class Cuadrado\n",
    "    class Circulo\n",
    "\n",
    "    direction BT\n",
    "    Figura <|-- Rectangulo\n",
    "    Rectangulo <|-- Cuadrado\n",
    "\n",
    "    Figura <|-- Elipse\n",
    "    Elipse <|-- Circulo\n",
    "```"
   ]
  },
  {
   "cell_type": "markdown",
   "metadata": {},
   "source": [
    "Cabe destacar crear diagramas a través de celdas `Markdown` utilizando `Mermaid`, es independiente del kernel utilizado. Al igual que las imágenes generadas por código en el cuaderno, al exportarlo como documento html quedan incrustadas en el mismo."
   ]
  }
 ],
 "metadata": {
  "kernelspec": {
   "display_name": "Python 3 (ipykernel)",
   "language": "python",
   "name": "python3"
  },
  "language_info": {
   "codemirror_mode": {
    "name": "ipython",
    "version": 3
   },
   "file_extension": ".py",
   "mimetype": "text/x-python",
   "name": "python",
   "nbconvert_exporter": "python",
   "pygments_lexer": "ipython3",
   "version": "3.10.12"
  }
 },
 "nbformat": 4,
 "nbformat_minor": 4
}
