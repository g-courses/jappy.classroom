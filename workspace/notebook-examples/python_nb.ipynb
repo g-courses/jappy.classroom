{
 "cells": [
  {
   "cell_type": "code",
   "execution_count": null,
   "metadata": {},
   "outputs": [],
   "source": [
    "print (\"hola mundo\")"
   ]
  },
  {
   "cell_type": "markdown",
   "metadata": {},
   "source": [
    "Ejemplo de uso de la biblioteca Matplotlib:"
   ]
  },
  {
   "cell_type": "code",
   "execution_count": null,
   "metadata": {},
   "outputs": [],
   "source": [
    "import matplotlib.pyplot as plt\n",
    "\n",
    "plt.plot([1, 2, 3, 4])\n",
    "plt.ylabel('some numbers')\n",
    "plt.show()"
   ]
  },
  {
   "cell_type": "markdown",
   "metadata": {},
   "source": [
    "### Realizar diagrama UML con `plantuml`"
   ]
  },
  {
   "cell_type": "code",
   "execution_count": 21,
   "metadata": {},
   "outputs": [],
   "source": [
    "import iplantuml"
   ]
  },
  {
   "cell_type": "markdown",
   "metadata": {},
   "source": [
    "Luego, utilizar el comando `%%` para llamar al programa `plantuml` que ya está instalado en el contenedor."
   ]
  },
  {
   "cell_type": "code",
   "execution_count": null,
   "metadata": {},
   "outputs": [],
   "source": [
    "%%plantuml \n",
    "\n",
    "@startuml\n",
    "    class Figura{\n",
    "        INIT_CLASS()\n",
    "\n",
    "        area(): double\n",
    "    }\n",
    "\n",
    "    class Rectangulo{\n",
    "        base: double\n",
    "        altura: double\n",
    "\n",
    "        INIT_CLASS(_base: doublen, _altura: double)\n",
    "            area(): double\n",
    "    }\n",
    "\n",
    "    class Elipse\n",
    "    class Cuadrado\n",
    "    class Circulo\n",
    "\n",
    "    Figura <|-- Rectangulo\n",
    "    Figura <|-- Elipse\n",
    "\n",
    "    Rectangulo <|-- Cuadrado\n",
    "    Elipse <|-- Circulo\n",
    "\n",
    "@enduml"
   ]
  }
 ],
 "metadata": {
  "kernelspec": {
   "display_name": "Python 3 (ipykernel)",
   "language": "python",
   "name": "python3"
  },
  "language_info": {
   "codemirror_mode": {
    "name": "ipython",
    "version": 3
   },
   "file_extension": ".py",
   "mimetype": "text/x-python",
   "name": "python",
   "nbconvert_exporter": "python",
   "pygments_lexer": "ipython3",
   "version": "3.10.12"
  }
 },
 "nbformat": 4,
 "nbformat_minor": 2
}
