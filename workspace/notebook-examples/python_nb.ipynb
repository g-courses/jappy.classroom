{
 "cells": [
  {
   "cell_type": "code",
   "execution_count": null,
   "metadata": {},
   "outputs": [],
   "source": [
    "print (\"hola mundo\")"
   ]
  },
  {
   "cell_type": "markdown",
   "metadata": {},
   "source": [
    "Ejemplo de uso de la biblioteca Matplotlib:"
   ]
  },
  {
   "cell_type": "code",
   "execution_count": null,
   "metadata": {
    "tags": []
   },
   "outputs": [],
   "source": [
    "import matplotlib.pyplot as plt"
   ]
  },
  {
   "cell_type": "code",
   "execution_count": null,
   "metadata": {},
   "outputs": [],
   "source": [
    "plt.plot([1, 2, 3, 4])\n",
    "plt.ylabel('some numbers')\n",
    "plt.show()"
   ]
  },
  {
   "cell_type": "markdown",
   "metadata": {},
   "source": [
    "### Realizar diagrama UML con `plantuml`"
   ]
  },
  {
   "cell_type": "code",
   "execution_count": 1,
   "metadata": {
    "tags": []
   },
   "outputs": [],
   "source": [
    "import iplantuml"
   ]
  },
  {
   "cell_type": "markdown",
   "metadata": {},
   "source": [
    "Luego, utilizar el comando `%%` para llamar al programa `plantuml` que ya está instalado en el contenedor."
   ]
  },
  {
   "cell_type": "code",
   "execution_count": 2,
   "metadata": {
    "tags": []
   },
   "outputs": [
    {
     "name": "stdout",
     "output_type": "stream",
     "text": [
      "Writing output for /home/devuser/workspace/notebook-examples/274fb0d7-69d9-4837-9c66-2dda6f1416ec.uml to 274fb0d7-69d9-4837-9c66-2dda6f1416ec.svg\n"
     ]
    },
    {
     "data": {
      "image/svg+xml": [
       "<svg xmlns=\"http://www.w3.org/2000/svg\" xmlns:xlink=\"http://www.w3.org/1999/xlink\" contentStyleType=\"text/css\" data-diagram-type=\"CLASS\" height=\"392px\" preserveAspectRatio=\"none\" style=\"width:382px;height:392px;background:#FFFFFF;\" version=\"1.1\" viewBox=\"0 0 382 392\" width=\"382px\" zoomAndPan=\"magnify\"><defs/><g><!--class Figura--><g id=\"elem_Figura\"><rect codeLine=\"1\" fill=\"#F1F1F1\" height=\"96.8906\" id=\"Figura\" rx=\"2.5\" ry=\"2.5\" style=\"stroke:#181818;stroke-width:0.5;\" width=\"111.333\" x=\"179.47\" y=\"7\"/><ellipse cx=\"210.3532\" cy=\"23\" fill=\"#ADD1B2\" rx=\"11\" ry=\"11\" style=\"stroke:#181818;stroke-width:1;\"/><path d=\"M213.3219,28.6406 Q212.7438,28.9375 212.1032,29.0781 Q211.4625,29.2344 210.7594,29.2344 Q208.2594,29.2344 206.9313,27.5938 Q205.6188,25.9375 205.6188,22.8125 Q205.6188,19.6875 206.9313,18.0313 Q208.2594,16.375 210.7594,16.375 Q211.4625,16.375 212.1032,16.5313 Q212.7594,16.6875 213.3219,16.9844 L213.3219,19.7031 Q212.6969,19.125 212.1032,18.8594 Q211.5094,18.5781 210.8844,18.5781 Q209.5407,18.5781 208.8532,19.6563 Q208.1657,20.7188 208.1657,22.8125 Q208.1657,24.9063 208.8532,25.9844 Q209.5407,27.0469 210.8844,27.0469 Q211.5094,27.0469 212.1032,26.7813 Q212.6969,26.5 213.3219,25.9219 L213.3219,28.6406 Z \" fill=\"#000000\"/><text fill=\"#000000\" font-family=\"sans-serif\" font-size=\"14\" lengthAdjust=\"spacing\" textLength=\"44.0371\" x=\"227.8827\" y=\"27.8467\">Figura</text><line style=\"stroke:#181818;stroke-width:0.5;\" x1=\"180.47\" x2=\"289.803\" y1=\"39\" y2=\"39\"/><line style=\"stroke:#181818;stroke-width:0.5;\" x1=\"180.47\" x2=\"289.803\" y1=\"47\" y2=\"47\"/><text fill=\"#000000\" font-family=\"sans-serif\" font-size=\"14\" lengthAdjust=\"spacing\" textLength=\"33.0654\" x=\"185.47\" y=\"63.9951\">init()</text><text fill=\"#000000\" font-family=\"sans-serif\" font-size=\"14\" lengthAdjust=\"spacing\" textLength=\"4.4502\" x=\"185.47\" y=\"80.292\"> </text><text fill=\"#000000\" font-family=\"sans-serif\" font-size=\"14\" lengthAdjust=\"spacing\" textLength=\"99.333\" x=\"185.47\" y=\"96.5889\">area(): double</text></g><!--class Rectangulo--><g id=\"elem_Rectangulo\"><rect codeLine=\"7\" fill=\"#F1F1F1\" height=\"113.1875\" id=\"Rectangulo\" rx=\"2.5\" ry=\"2.5\" style=\"stroke:#181818;stroke-width:0.5;\" width=\"256.2686\" x=\"7\" y=\"163.89\"/><ellipse cx=\"91.2871\" cy=\"179.89\" fill=\"#ADD1B2\" rx=\"11\" ry=\"11\" style=\"stroke:#181818;stroke-width:1;\"/><path d=\"M94.2559,185.5306 Q93.6777,185.8275 93.0371,185.9681 Q92.3965,186.1244 91.6934,186.1244 Q89.1934,186.1244 87.8652,184.4838 Q86.5527,182.8275 86.5527,179.7025 Q86.5527,176.5775 87.8652,174.9213 Q89.1934,173.265 91.6934,173.265 Q92.3965,173.265 93.0371,173.4213 Q93.6934,173.5775 94.2559,173.8744 L94.2559,176.5931 Q93.6309,176.015 93.0371,175.7494 Q92.4434,175.4681 91.8184,175.4681 Q90.4746,175.4681 89.7871,176.5463 Q89.0996,177.6088 89.0996,179.7025 Q89.0996,181.7963 89.7871,182.8744 Q90.4746,183.9369 91.8184,183.9369 Q92.4434,183.9369 93.0371,183.6713 Q93.6309,183.39 94.2559,182.8119 L94.2559,185.5306 Z \" fill=\"#000000\"/><text fill=\"#000000\" font-family=\"sans-serif\" font-size=\"14\" lengthAdjust=\"spacing\" textLength=\"79.1943\" x=\"111.7871\" y=\"184.7367\">Rectangulo</text><line style=\"stroke:#181818;stroke-width:0.5;\" x1=\"8\" x2=\"262.2686\" y1=\"195.89\" y2=\"195.89\"/><text fill=\"#000000\" font-family=\"sans-serif\" font-size=\"14\" lengthAdjust=\"spacing\" textLength=\"90.2549\" x=\"13\" y=\"212.8851\">base: double</text><text fill=\"#000000\" font-family=\"sans-serif\" font-size=\"14\" lengthAdjust=\"spacing\" textLength=\"98.0479\" x=\"13\" y=\"229.182\">altura: double</text><line style=\"stroke:#181818;stroke-width:0.5;\" x1=\"8\" x2=\"262.2686\" y1=\"236.4838\" y2=\"236.4838\"/><text fill=\"#000000\" font-family=\"sans-serif\" font-size=\"14\" lengthAdjust=\"spacing\" textLength=\"244.2686\" x=\"13\" y=\"253.4789\">init(_base: double, _altura: double)</text><text fill=\"#000000\" font-family=\"sans-serif\" font-size=\"14\" lengthAdjust=\"spacing\" textLength=\"99.333\" x=\"13\" y=\"269.7757\">area(): double</text></g><!--class Elipse--><g id=\"elem_Elipse\"><rect codeLine=\"15\" fill=\"#F1F1F1\" height=\"48\" id=\"Elipse\" rx=\"2.5\" ry=\"2.5\" style=\"stroke:#181818;stroke-width:0.5;\" width=\"73.4189\" x=\"298.42\" y=\"196.49\"/><ellipse cx=\"313.42\" cy=\"212.49\" fill=\"#ADD1B2\" rx=\"11\" ry=\"11\" style=\"stroke:#181818;stroke-width:1;\"/><path d=\"M316.3888,218.1306 Q315.8106,218.4275 315.17,218.5681 Q314.5294,218.7244 313.8263,218.7244 Q311.3263,218.7244 309.9981,217.0837 Q308.6856,215.4275 308.6856,212.3025 Q308.6856,209.1775 309.9981,207.5212 Q311.3263,205.865 313.8263,205.865 Q314.5294,205.865 315.17,206.0212 Q315.8263,206.1775 316.3888,206.4744 L316.3888,209.1931 Q315.7638,208.615 315.17,208.3494 Q314.5763,208.0681 313.9513,208.0681 Q312.6075,208.0681 311.92,209.1462 Q311.2325,210.2087 311.2325,212.3025 Q311.2325,214.3962 311.92,215.4744 Q312.6075,216.5369 313.9513,216.5369 Q314.5763,216.5369 315.17,216.2712 Q315.7638,215.99 316.3888,215.4119 L316.3888,218.1306 Z \" fill=\"#000000\"/><text fill=\"#000000\" font-family=\"sans-serif\" font-size=\"14\" lengthAdjust=\"spacing\" textLength=\"41.4189\" x=\"327.42\" y=\"217.3367\">Elipse</text><line style=\"stroke:#181818;stroke-width:0.5;\" x1=\"299.42\" x2=\"370.8389\" y1=\"228.49\" y2=\"228.49\"/><line style=\"stroke:#181818;stroke-width:0.5;\" x1=\"299.42\" x2=\"370.8389\" y1=\"236.49\" y2=\"236.49\"/></g><!--class Cuadrado--><g id=\"elem_Cuadrado\"><rect codeLine=\"16\" fill=\"#F1F1F1\" height=\"48\" id=\"Cuadrado\" rx=\"2.5\" ry=\"2.5\" style=\"stroke:#181818;stroke-width:0.5;\" width=\"99.9014\" x=\"85.18\" y=\"337.08\"/><ellipse cx=\"100.18\" cy=\"353.08\" fill=\"#ADD1B2\" rx=\"11\" ry=\"11\" style=\"stroke:#181818;stroke-width:1;\"/><path d=\"M103.1488,358.7206 Q102.5706,359.0175 101.93,359.1581 Q101.2894,359.3144 100.5863,359.3144 Q98.0863,359.3144 96.7581,357.6738 Q95.4456,356.0175 95.4456,352.8925 Q95.4456,349.7675 96.7581,348.1113 Q98.0863,346.455 100.5863,346.455 Q101.2894,346.455 101.93,346.6113 Q102.5863,346.7675 103.1488,347.0644 L103.1488,349.7831 Q102.5238,349.205 101.93,348.9394 Q101.3363,348.6581 100.7113,348.6581 Q99.3675,348.6581 98.68,349.7363 Q97.9925,350.7988 97.9925,352.8925 Q97.9925,354.9863 98.68,356.0644 Q99.3675,357.1269 100.7113,357.1269 Q101.3363,357.1269 101.93,356.8613 Q102.5238,356.58 103.1488,356.0019 L103.1488,358.7206 Z \" fill=\"#000000\"/><text fill=\"#000000\" font-family=\"sans-serif\" font-size=\"14\" lengthAdjust=\"spacing\" textLength=\"67.9014\" x=\"114.18\" y=\"357.9267\">Cuadrado</text><line style=\"stroke:#181818;stroke-width:0.5;\" x1=\"86.18\" x2=\"184.0814\" y1=\"369.08\" y2=\"369.08\"/><line style=\"stroke:#181818;stroke-width:0.5;\" x1=\"86.18\" x2=\"184.0814\" y1=\"377.08\" y2=\"377.08\"/></g><!--class Circulo--><g id=\"elem_Circulo\"><rect codeLine=\"17\" fill=\"#F1F1F1\" height=\"48\" id=\"Circulo\" rx=\"2.5\" ry=\"2.5\" style=\"stroke:#181818;stroke-width:0.5;\" width=\"80.4463\" x=\"294.91\" y=\"337.08\"/><ellipse cx=\"309.91\" cy=\"353.08\" fill=\"#ADD1B2\" rx=\"11\" ry=\"11\" style=\"stroke:#181818;stroke-width:1;\"/><path d=\"M312.8788,358.7206 Q312.3006,359.0175 311.66,359.1581 Q311.0194,359.3144 310.3163,359.3144 Q307.8163,359.3144 306.4881,357.6738 Q305.1756,356.0175 305.1756,352.8925 Q305.1756,349.7675 306.4881,348.1113 Q307.8163,346.455 310.3163,346.455 Q311.0194,346.455 311.66,346.6113 Q312.3163,346.7675 312.8788,347.0644 L312.8788,349.7831 Q312.2538,349.205 311.66,348.9394 Q311.0663,348.6581 310.4413,348.6581 Q309.0975,348.6581 308.41,349.7363 Q307.7225,350.7988 307.7225,352.8925 Q307.7225,354.9863 308.41,356.0644 Q309.0975,357.1269 310.4413,357.1269 Q311.0663,357.1269 311.66,356.8613 Q312.2538,356.58 312.8788,356.0019 L312.8788,358.7206 Z \" fill=\"#000000\"/><text fill=\"#000000\" font-family=\"sans-serif\" font-size=\"14\" lengthAdjust=\"spacing\" textLength=\"48.4463\" x=\"323.91\" y=\"357.9267\">Circulo</text><line style=\"stroke:#181818;stroke-width:0.5;\" x1=\"295.91\" x2=\"374.3563\" y1=\"369.08\" y2=\"369.08\"/><line style=\"stroke:#181818;stroke-width:0.5;\" x1=\"295.91\" x2=\"374.3563\" y1=\"377.08\" y2=\"377.08\"/></g><!--reverse link Figura to Rectangulo--><g id=\"link_Figura_Rectangulo\"><path codeLine=\"19\" d=\"M196.5316,119.3854 C185.1216,137.9954 181.35,144.13 169.48,163.48 \" fill=\"#FFFFFF\" fill-opacity=\"0.00000\" id=\"Figura-backto-Rectangulo\" style=\"stroke:#181818;stroke-width:1;\"/><polygon fill=\"#FFFFFF\" fill-opacity=\"0.00000\" points=\"205.94,104.04,191.4164,116.2493,201.6467,122.5215,205.94,104.04\" style=\"stroke:#181818;stroke-width:1;\"/></g><!--reverse link Figura to Elipse--><g id=\"link_Figura_Elipse\"><path codeLine=\"20\" d=\"M273.7389,119.3851 C292.2989,149.6551 306.11,172.17 320.79,196.1 \" fill=\"#FFFFFF\" fill-opacity=\"0.00000\" id=\"Figura-backto-Elipse\" style=\"stroke:#181818;stroke-width:1;\"/><polygon fill=\"#FFFFFF\" fill-opacity=\"0.00000\" points=\"264.33,104.04,268.6238,122.5214,278.8539,116.2489,264.33,104.04\" style=\"stroke:#181818;stroke-width:1;\"/></g><!--reverse link Rectangulo to Cuadrado--><g id=\"link_Rectangulo_Cuadrado\"><path codeLine=\"22\" d=\"M135.13,295.46 C135.13,316.19 135.13,320.58 135.13,336.82 \" fill=\"#FFFFFF\" fill-opacity=\"0.00000\" id=\"Rectangulo-backto-Cuadrado\" style=\"stroke:#181818;stroke-width:1;\"/><polygon fill=\"#FFFFFF\" fill-opacity=\"0.00000\" points=\"135.13,277.46,129.13,295.46,141.13,295.46,135.13,277.46\" style=\"stroke:#181818;stroke-width:1;\"/></g><!--reverse link Elipse to Circulo--><g id=\"link_Elipse_Circulo\"><path codeLine=\"23\" d=\"M335.13,262.68 C335.13,288.27 335.13,311.19 335.13,336.81 \" fill=\"#FFFFFF\" fill-opacity=\"0.00000\" id=\"Elipse-backto-Circulo\" style=\"stroke:#181818;stroke-width:1;\"/><polygon fill=\"#FFFFFF\" fill-opacity=\"0.00000\" points=\"335.13,244.68,329.13,262.68,341.13,262.68,335.13,244.68\" style=\"stroke:#181818;stroke-width:1;\"/></g><!--SRC=[ZKyx2iCm3Drp2eqnD1SetKfwW5uWABO81X4NVwQsTs-mJ6BJ9Thqlf9c304UTaaUtnsKiQkDlUhs7JrXhwvWN9gPClmLLcV_atJ4TKdiZemP0pME7CHnAzhXjd2gBHUOMh4wVSt8zXMe0ku9ZKVZQiXwlPqhDdaVRfzXg5xveqfknW-PS4s520iXHJy0]--></g></svg>"
      ],
      "text/plain": [
       "<IPython.core.display.SVG object>"
      ]
     },
     "execution_count": 2,
     "metadata": {},
     "output_type": "execute_result"
    }
   ],
   "source": [
    "%%plantuml\n",
    "\n",
    "@startuml\n",
    "    class Figura{\n",
    "        init()\n",
    "\n",
    "        area(): double\n",
    "    }\n",
    "\n",
    "    class Rectangulo{\n",
    "        base: double\n",
    "        altura: double\n",
    "\n",
    "        init(_base: double, _altura: double)\n",
    "        area(): double\n",
    "    }\n",
    "\n",
    "    class Elipse\n",
    "    class Cuadrado\n",
    "    class Circulo\n",
    "\n",
    "    Figura <|-- Rectangulo\n",
    "    Figura <|-- Elipse\n",
    "\n",
    "    Rectangulo <|-- Cuadrado\n",
    "    Elipse <|-- Circulo\n",
    "\n",
    "@enduml"
   ]
  },
  {
   "cell_type": "markdown",
   "metadata": {},
   "source": [
    "```plantuml\n",
    "@startuml\n",
    "Alice -> Bob: Hello\n",
    "@enduml"
   ]
  },
  {
   "cell_type": "code",
   "execution_count": null,
   "metadata": {},
   "outputs": [],
   "source": []
  }
 ],
 "metadata": {
  "@deathbeds/ipydrawio": {
   "xml": ""
  },
  "kernelspec": {
   "display_name": "Python 3 (ipykernel)",
   "language": "python",
   "name": "python3"
  },
  "language_info": {
   "codemirror_mode": {
    "name": "ipython",
    "version": 3
   },
   "file_extension": ".py",
   "mimetype": "text/x-python",
   "name": "python",
   "nbconvert_exporter": "python",
   "pygments_lexer": "ipython3",
   "version": "3.10.12"
  }
 },
 "nbformat": 4,
 "nbformat_minor": 4
}
