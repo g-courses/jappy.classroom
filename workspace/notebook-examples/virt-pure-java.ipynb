{
 "cells": [
  {
   "cell_type": "markdown",
   "metadata": {},
   "source": [
    "# Métodos virtuales puros en Java\n",
    "\n",
    "Un método declarado como virtual puro permite, además implementar polimorfismo en tiempo de ejecución, permite que ese método no tenga implementación en la clase base y obliga a las clases hijas a implementarlo. Los métodos virtuales puros en Java se declaran con la palabra clave `abstract` y **deben** pertener a una clase del tipo **abstracta**. Una clase del tipo **abstracta** no puede instanciar objetos.\n"
   ]
  },
  {
   "cell_type": "code",
   "execution_count": 1,
   "metadata": {
    "vscode": {
     "languageId": "java"
    }
   },
   "outputs": [],
   "source": [
    "\n",
    "abstract class Animal {\n",
    "    Animal(){}\n",
    "    public abstract String hacerSonido();\n",
    "}"
   ]
  },
  {
   "cell_type": "markdown",
   "metadata": {},
   "source": [
    "Una vez definida la clase base, que en este caso es una clase **abstracta**, se definen e implementan las clases derivadas `Perro` y `Gato`, tal como en el caso de métodos virtuales simples."
   ]
  },
  {
   "cell_type": "code",
   "execution_count": 2,
   "metadata": {
    "vscode": {
     "languageId": "java"
    }
   },
   "outputs": [],
   "source": [
    "class Perro extends Animal {\n",
    "    public Perro(){}\n",
    "    \n",
    "    @Override\n",
    "    public String hacerSonido() {\n",
    "        return(\"Guau\");\n",
    "    }\n",
    "};\n",
    "    \n",
    "class Gato extends Animal {\n",
    "    public Gato(){}\n",
    "\n",
    "    @Override\n",
    "    public String hacerSonido() {\n",
    "        return(\"Miau\");\n",
    "    }\n",
    "};"
   ]
  },
  {
   "cell_type": "markdown",
   "metadata": {},
   "source": [
    "# Creación de objetos de forma dinámica\n",
    "\n",
    "Ahora se puede generar el código que realiza la prueba de concepto.\n"
   ]
  },
  {
   "cell_type": "code",
   "execution_count": 3,
   "metadata": {
    "vscode": {
     "languageId": "java"
    }
   },
   "outputs": [
    {
     "name": "stdout",
     "output_type": "stream",
     "text": [
      "Guau\n",
      "Miau\n",
      "Guau\n",
      "Miau\n"
     ]
    }
   ],
   "source": [
    "void sonido(Animal a){\n",
    "    System.out.println(a.hacerSonido());\n",
    "}\n",
    "\n",
    "\n",
    "Animal a0 = new Perro();\n",
    "Animal a1 = new Gato();\n",
    "Perro  a2 = new Perro();\n",
    "Gato   a3 = new Gato();\n",
    "\n",
    "sonido(a0);\n",
    "sonido(a1);\n",
    "sonido(a2);\n",
    "sonido(a3);"
   ]
  }
 ],
 "metadata": {
  "kernelspec": {
   "display_name": "Java",
   "language": "java",
   "name": "java"
  },
  "language_info": {
   "codemirror_mode": "java",
   "file_extension": ".jshell",
   "mimetype": "text/x-java-source",
   "name": "Java",
   "pygments_lexer": "java",
   "version": "11.0.25+9-post-Ubuntu-1ubuntu120.04"
  }
 },
 "nbformat": 4,
 "nbformat_minor": 4
}
