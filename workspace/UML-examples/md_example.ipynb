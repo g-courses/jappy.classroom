{
 "cells": [
  {
   "cell_type": "markdown",
   "id": "4e8e0c6d-0c74-4eea-9c62-b0b677c6ff4d",
   "metadata": {
    "tags": []
   },
   "source": [
    "Este es un ejemplo de diagrama de clases realizado con `Mermaid` en una celda `Markdown`.\n",
    "\n",
    "\n",
    "\n",
    "```mermaid\n",
    "classDiagram\n",
    "\n",
    "    class Figura{\n",
    "        init()\n",
    "\n",
    "        area(): double\n",
    "    }\n",
    "\n",
    "    class Rectangulo{\n",
    "        base: double\n",
    "        altura: double\n",
    "\n",
    "        init(_base: doublen, _altura: double)\n",
    "         area(): double\n",
    "    }\n",
    "\n",
    "    class Elipse\n",
    "\n",
    "    class Cuadrado\n",
    "\n",
    "    class Circulo\n",
    "\n",
    "    Figura <|-- Rectangulo\n",
    "    Figura <|-- Elipse\n",
    "\n",
    "    Rectangulo <|-- Cuadrado\n",
    "    Elipse <|-- Circulo\n",
    "````"
   ]
  }
 ],
 "metadata": {
  "kernelspec": {
   "display_name": "Python 3 (ipykernel)",
   "language": "python",
   "name": "python3"
  },
  "language_info": {
   "codemirror_mode": {
    "name": "ipython",
    "version": 3
   },
   "file_extension": ".py",
   "mimetype": "text/x-python",
   "name": "python",
   "nbconvert_exporter": "python",
   "pygments_lexer": "ipython3",
   "version": "3.10.12"
  }
 },
 "nbformat": 4,
 "nbformat_minor": 5
}
