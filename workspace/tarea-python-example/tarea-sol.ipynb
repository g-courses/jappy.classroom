{
 "cells": [
  {
   "cell_type": "markdown",
   "metadata": {},
   "source": [
    "# Tarea de herencia"
   ]
  },
  {
   "cell_type": "markdown",
   "metadata": {},
   "source": [
    "La clase superior se llama `Animal`. Descripción:\n",
    "* Tiene un atributo que almacena el sonido que hace el animal como un string.\n",
    "* Un método retorna el sonido que hace el animal. \n",
    "* El constructor permite que al crear un objeto a partir de esta clase, asigne un string vacío al atributo que almacena el sonido del animal. \n",
    "* Debe tener un método que permita asignar el sonido que hace el animal.\n",
    "* Debe tener un método que retorne el sonido que hace el animal."
   ]
  },
  {
   "cell_type": "code",
   "execution_count": null,
   "metadata": {},
   "outputs": [],
   "source": [
    "class Animal:\n",
    "    sonido: str\n",
    "\n",
    "    def __init__(self):\n",
    "        sonido = \"\"\n",
    "\n",
    "    def vocalizar(self):\n",
    "        return(self.sonido)\n",
    "    \n",
    "    def asignarSonido(self, s):\n",
    "        self.sonido = s"
   ]
  },
  {
   "cell_type": "markdown",
   "metadata": {},
   "source": [
    "La clase `Mascota` es hija de la clase `animal`. Descripción:\n",
    "* Almacena el nombre de la mascota en un atributo de tipo string. \n",
    "* El constructor debe asignar un string vacío al nombre de la mascota.\n",
    "* Debe tener métodos que permitan asignar y retornar el nombre de la mascota."
   ]
  },
  {
   "cell_type": "code",
   "execution_count": null,
   "metadata": {},
   "outputs": [],
   "source": [
    "class Mascota(Animal):\n",
    "    nombreMascota: str\n",
    "\n",
    "    def __init__(self):\n",
    "        nombreMascota = \"\"\n",
    "\n",
    "    def verNombre(self):\n",
    "        return self.nombreMascota\n",
    "    \n",
    "    def asignarNombre(self, nombre: str):\n",
    "        self.nombreMascota = nombre"
   ]
  },
  {
   "cell_type": "markdown",
   "metadata": {},
   "source": [
    "Implementar la función `mostrarMascota`. Debe imprimir tanto el nombre de la mascota como el sonido que hace"
   ]
  },
  {
   "cell_type": "code",
   "execution_count": null,
   "metadata": {},
   "outputs": [],
   "source": [
    "def mostrarMascota(m):\n",
    "    print(m.verNombre())\n",
    "    print(m.vocalizar())"
   ]
  },
  {
   "cell_type": "markdown",
   "metadata": {},
   "source": [
    "Las definiciones realizadas deben ser probadas con el siguiente código, el que **NO** se debe debe modificar. La salida esperada es:\n",
    "```\n",
    "inti\n",
    "ladrar\n",
    "lucas\n",
    "ladrar\n",
    "thor\n",
    "maullar\n",
    "loki\n",
    "maullar\n",
    "```\n"
   ]
  },
  {
   "cell_type": "code",
   "execution_count": null,
   "metadata": {},
   "outputs": [],
   "source": [
    "p0 = Mascota()\n",
    "p0.asignarNombre(\"inti\")\n",
    "p0.asignarSonido(\"ladrar\")\n",
    "mostrarMascota(p0)\n",
    "\n",
    "p1 = Mascota()\n",
    "p1.asignarNombre(\"lucas\")\n",
    "p1.asignarSonido(\"ladrar\")\n",
    "mostrarMascota(p1)\n",
    "\n",
    "p2 = Mascota()\n",
    "p2.asignarSonido(\"maullar\")\n",
    "p2.asignarNombre(\"thor\")\n",
    "mostrarMascota(p2)\n",
    "\n",
    "p3 = Mascota()\n",
    "p3.asignarSonido(\"maullar\")\n",
    "p3.asignarNombre(\"loki\")\n",
    "mostrarMascota(p3)\n"
   ]
  },
  {
   "cell_type": "markdown",
   "metadata": {},
   "source": [
    "Modifique el constructor de la clase Mascota, de manera que permita crear mascotas con su nombre y el sonido correspondiente. Verifique el funcionamiento de la nueva versión con el código siguiente. La salida esperada es la misma que en el punto anterior."
   ]
  },
  {
   "cell_type": "code",
   "execution_count": null,
   "metadata": {},
   "outputs": [],
   "source": [
    "class Mascota(Animal):\n",
    "    nombreMascota: str\n",
    "\n",
    "    def __init__(self, _nombre, _sonido):\n",
    "        self.nombreMascota = _nombre\n",
    "        self.sonido = _sonido\n",
    "\n",
    "\n",
    "    def verNombre(self):\n",
    "        return self.nombreMascota\n",
    "    \n",
    "    def asignarNombre(self, nombre: str):\n",
    "        self.nombreMascota = nombre"
   ]
  },
  {
   "cell_type": "code",
   "execution_count": null,
   "metadata": {},
   "outputs": [],
   "source": [
    "p4 = Mascota(\"inti\", \"ladrar\")\n",
    "mostrarMascota(p4)\n",
    "\n",
    "p5 = Mascota(\"lucas\", \"ladrar\")\n",
    "mostrarMascota(p5)\n",
    "\n",
    "p6 = Mascota(\"thor\", \"maullar\")\n",
    "mostrarMascota(p6)\n",
    "\n",
    "p7 = Mascota(\"loki\", \"maullar\")\n",
    "mostrarMascota(p7)\n"
   ]
  }
 ],
 "metadata": {
  "kernelspec": {
   "display_name": "Python 3 (ipykernel)",
   "language": "python",
   "name": "python3"
  }
 },
 "nbformat": 4,
 "nbformat_minor": 2
}
